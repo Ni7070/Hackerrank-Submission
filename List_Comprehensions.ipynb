{
  "nbformat": 4,
  "nbformat_minor": 0,
  "metadata": {
    "colab": {
      "name": "List Comprehensions.ipynb",
      "provenance": [],
      "authorship_tag": "ABX9TyOK+ul7Gq8gnDpvjUWFpk14",
      "include_colab_link": true
    },
    "kernelspec": {
      "name": "python3",
      "display_name": "Python 3"
    },
    "language_info": {
      "name": "python"
    }
  },
  "cells": [
    {
      "cell_type": "markdown",
      "metadata": {
        "id": "view-in-github",
        "colab_type": "text"
      },
      "source": [
        "<a href=\"https://colab.research.google.com/github/Ni7070/Hackerrank-Submission/blob/master/List_Comprehensions.ipynb\" target=\"_parent\"><img src=\"https://colab.research.google.com/assets/colab-badge.svg\" alt=\"Open In Colab\"/></a>"
      ]
    },
    {
      "cell_type": "markdown",
      "metadata": {
        "id": "ZAmWhSQ_RFGy"
      },
      "source": [
        "**List Comprehensions**\n",
        "Let's learn about list comprehensions! You are given three integers  and  representing the dimensions of a cuboid along with an integer . Print a list of all possible coordinates given by  on a 3D grid where the sum of  is not equal to . Here, . Please use list comprehensions rather than multiple loops, as a learning exercise.\n",
        "\n",
        "Example:\n",
        "x=1,\n",
        "y=1,\n",
        "z=2,\n",
        "n=3\n",
        "\n",
        "\n",
        "All permutations of  are:<br>\n",
        "[[0, 0, 0], [0, 0, 1], [0, 0, 2], [0, 1, 0], [0, 1, 1], [0, 1, 2], [1, 0, 0], [1, 0, 1], [1, 0, 2], [1, 1, 0], [1, 1, 1], [1, 1, 2]]<br>\n",
        "\n",
        "Print an array of the elements that do not sum to n=3<br>\n",
        "[[0, 0, 0], [0, 0, 1], [0, 0, 2], [0, 1, 0], [0, 1, 1], [1, 0, 0], [1, 0, 1], [1, 1, 0], [1, 1, 2]]<br>\n",
        "\n",
        "Input Format\n",
        "\n",
        "Four integers  and , each on a separate line.\n",
        "\n",
        "Constraints\n",
        "\n",
        "<li>Print the list in lexicographic increasing order.\n",
        "\n",
        "<Li>Sample Input: \n",
        "\n",
        "1\n",
        "1\n",
        "1\n",
        "2\n",
        "<li>Sample Output:\n",
        "\n",
        "[[0, 0, 0], [0, 0, 1], [0, 1, 0], [1, 0, 0], [1, 1, 1]]"
      ]
    },
    {
      "cell_type": "code",
      "metadata": {
        "colab": {
          "base_uri": "https://localhost:8080/"
        },
        "id": "p-A4HzUGJCyJ",
        "outputId": "86d4f333-a736-4a08-9947-f5e61ba2387f"
      },
      "source": [
        "x=1\n",
        "y=1\n",
        "z=2\n",
        "n=3\n",
        "list1=[]\n",
        "list2=[]\n",
        "for i in range(x+1):\n",
        "  for j in range(y+1):\n",
        "    for k in range(z+1):\n",
        "      list1.append([i, j, k])\n",
        "      if(i+j+k)!=n:\n",
        "        list2.append([i, j, k])\n",
        "print(\"l1: \",list1)\n",
        "print(\"l2 :\",list2)"
      ],
      "execution_count": 24,
      "outputs": [
        {
          "output_type": "stream",
          "text": [
            "l1:  [[0, 0, 0], [0, 0, 1], [0, 0, 2], [0, 1, 0], [0, 1, 1], [0, 1, 2], [1, 0, 0], [1, 0, 1], [1, 0, 2], [1, 1, 0], [1, 1, 1], [1, 1, 2]]\n",
            "l2 : [[0, 0, 0], [0, 0, 1], [0, 0, 2], [0, 1, 0], [0, 1, 1], [1, 0, 0], [1, 0, 1], [1, 1, 0], [1, 1, 2]]\n"
          ],
          "name": "stdout"
        }
      ]
    }
  ]
}