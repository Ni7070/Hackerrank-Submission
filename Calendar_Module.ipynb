{
  "nbformat": 4,
  "nbformat_minor": 0,
  "metadata": {
    "colab": {
      "name": "Calendar Module.ipynb",
      "provenance": [],
      "authorship_tag": "ABX9TyO/Pv5HYa+NMrIGmQtw+gcF",
      "include_colab_link": true
    },
    "kernelspec": {
      "name": "python3",
      "display_name": "Python 3"
    },
    "language_info": {
      "name": "python"
    }
  },
  "cells": [
    {
      "cell_type": "markdown",
      "metadata": {
        "id": "view-in-github",
        "colab_type": "text"
      },
      "source": [
        "<a href=\"https://colab.research.google.com/github/Ni7070/Hackerrank-Submission/blob/master/Calendar_Module.ipynb\" target=\"_parent\"><img src=\"https://colab.research.google.com/assets/colab-badge.svg\" alt=\"Open In Colab\"/></a>"
      ]
    },
    {
      "cell_type": "markdown",
      "metadata": {
        "id": "3GEU6wsEDfwz"
      },
      "source": [
        "**Calendar Module**\n",
        "\n",
        "The calendar module allows you to output calendars and provides additional useful functions for them.\n",
        "\n",
        "class calendar.TextCalendar([firstweekday])\n",
        "\n",
        "This class can be used to generate plain text calendars.\n",
        "\n",
        "---\n",
        "\n",
        "\n",
        "**Task**\n",
        "\n",
        "You are given a date. Your task is to find what the day is on that date.\n",
        "\n",
        "**Input Format** \n",
        "\n",
        "A single line of input containing the space separated month, day and year, respectively, in    format.\n",
        "\n",
        "**Constraints**\n",
        "<li> $2000<year<3000$\n",
        "\n",
        "\n",
        "\n",
        "**Output Format**\n",
        "\n",
        "Output the correct day in capital letters.\n",
        "\n",
        "**Sample Input**\n",
        "\n",
        "08 05 2015\n",
        "\n",
        "**Sample Output**\n",
        "\n",
        "WEDNESDAY\n",
        "\n",
        "**Explanation**\n",
        "\n",
        "The day on August 5th, 2015  was WEDNESDAY.\n",
        "\n"
      ]
    },
    {
      "cell_type": "code",
      "metadata": {
        "colab": {
          "base_uri": "https://localhost:8080/"
        },
        "id": "3ABGevgO-6j1",
        "outputId": "85fc1812-e2f2-4e36-df7e-cae252c08927"
      },
      "source": [
        "import calendar\n",
        "\n",
        "\n",
        "mm, dd, yyyy = list((map(int, input().split())))\n",
        "\n",
        "days = [\"MONDAY\", \"TUESDAY\", \"WEDNESDAY\", \"THURSDAY\",\n",
        "        \"FRIDAY\", \"SATURDAY\", \"SUNDAY\"]\n",
        "dayNo = calendar.weekday(yyyy, mm, dd)\n",
        "print(days[dayNo])\n"
      ],
      "execution_count": 15,
      "outputs": [
        {
          "output_type": "stream",
          "text": [
            "08 05 2015\n",
            "WEDNESDAY\n"
          ],
          "name": "stdout"
        }
      ]
    }
  ]
}