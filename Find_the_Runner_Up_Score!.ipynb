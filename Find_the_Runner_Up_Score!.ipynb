{
  "nbformat": 4,
  "nbformat_minor": 0,
  "metadata": {
    "colab": {
      "name": "Find the Runner-Up Score!.ipynb",
      "provenance": [],
      "authorship_tag": "ABX9TyMANx+Fn4bm87kAIw619Amq",
      "include_colab_link": true
    },
    "kernelspec": {
      "name": "python3",
      "display_name": "Python 3"
    },
    "language_info": {
      "name": "python"
    }
  },
  "cells": [
    {
      "cell_type": "markdown",
      "metadata": {
        "id": "view-in-github",
        "colab_type": "text"
      },
      "source": [
        "<a href=\"https://colab.research.google.com/github/Ni7070/Hackerrank-Submission/blob/master/Find_the_Runner_Up_Score!.ipynb\" target=\"_parent\"><img src=\"https://colab.research.google.com/assets/colab-badge.svg\" alt=\"Open In Colab\"/></a>"
      ]
    },
    {
      "cell_type": "markdown",
      "metadata": {
        "id": "ZAmWhSQ_RFGy"
      },
      "source": [
        "**Find the Runner-Up Score!**\n",
        "\n",
        "Given the participants' score sheet for your University Sports Day, you are required to find the runner-up score. You are given  scores. Store them in a list and find the score of the runner-up.\n",
        "\n",
        "*Input Format*\n",
        "The first line contains n. The second line contains an array A[]  of n  integers each separated by a space.\n",
        "\n",
        "*Constraints*\n",
        "<li>2<=n<=10\n",
        "<li>-100<=A[i]<=100\n",
        "\n",
        "*Output Format*\n",
        "\n",
        "Print the runner-up score.\n",
        "\n",
        "\n",
        "<Li>Sample Input: \n",
        "\n",
        "5\n",
        "2 3 6 6 5\n",
        "\n",
        "<li>Sample Output:\n",
        "\n",
        "5\n",
        "\n",
        "*Explanation*\n",
        "Given list is [2,3,6,6,5]. The maximum score is 6, second maximum is 5. Hence, we print 5 as the runner-up score."
      ]
    },
    {
      "cell_type": "code",
      "metadata": {
        "colab": {
          "base_uri": "https://localhost:8080/"
        },
        "id": "I8PMyB8ifMYO",
        "outputId": "7a85b2cb-214a-4653-ebfb-82903109e5ad"
      },
      "source": [
        "n = 10\n",
        "arr = [6, 6, 6, 6, 6, 6, 6, 6, 6, 5]\n",
        "l=[]\n",
        "m1 =m2= -4433\n",
        "if n>=2 and n<=10:\n",
        "  for i in arr:\n",
        "    if i>=-100 and i<=100:\n",
        "      if i>m1:\n",
        "        m1=i \n",
        "  print(m1)\n",
        "  for j in arr:\n",
        "    if j<m1:\n",
        "      l.append(j)\n",
        "  print(\"l:\",l)\n",
        "\n",
        "  for k in l:\n",
        "    if k>m2:\n",
        "      m2=k\n",
        "  print(\"second max:\", m2)   \n",
        "      \n",
        "\n",
        "        \n"
      ],
      "execution_count": 95,
      "outputs": [
        {
          "output_type": "stream",
          "text": [
            "6\n",
            "l: [5]\n",
            "second max: 5\n"
          ],
          "name": "stdout"
        }
      ]
    }
  ]
}