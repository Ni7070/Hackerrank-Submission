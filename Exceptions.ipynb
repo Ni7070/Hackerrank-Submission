{
  "nbformat": 4,
  "nbformat_minor": 0,
  "metadata": {
    "colab": {
      "name": "Exceptions.ipynb",
      "provenance": [],
      "authorship_tag": "ABX9TyP4GLc0P0LgovgUB6DyZb/7",
      "include_colab_link": true
    },
    "kernelspec": {
      "name": "python3",
      "display_name": "Python 3"
    },
    "language_info": {
      "name": "python"
    }
  },
  "cells": [
    {
      "cell_type": "markdown",
      "metadata": {
        "id": "view-in-github",
        "colab_type": "text"
      },
      "source": [
        "<a href=\"https://colab.research.google.com/github/Ni7070/Hackerrank-Submission/blob/master/Exceptions.ipynb\" target=\"_parent\"><img src=\"https://colab.research.google.com/assets/colab-badge.svg\" alt=\"Open In Colab\"/></a>"
      ]
    },
    {
      "cell_type": "markdown",
      "metadata": {
        "id": "3GEU6wsEDfwz"
      },
      "source": [
        "**Exceptions**\n",
        "\n",
        "\n",
        "Errors detected during execution are called exceptions.\n",
        "\n",
        "Examples:\n",
        "\n",
        "**ZeroDivisionError**\n",
        "\n",
        "This error is raised when the second argument of a division or modulo operation is zero.\n",
        "\n",
        ">>> a = '1'<br>\n",
        ">>> b = '0'<br>\n",
        ">>> print int(a) / int(b)<br>\n",
        ">>> ZeroDivisionError: integer division or modulo by zero<br>\n",
        "\n",
        "**ValueError**\n",
        "\n",
        "This error is raised when a built-in operation or function receives an argument that has the right type but an inappropriate value.\n",
        "\n",
        ">>> a = '1'<br>\n",
        ">>> b = '#'<br>\n",
        ">>> print int(a) / int(b)<br>\n",
        ">>> ValueError: invalid literal for int() with base 10: '#' <br>\n",
        "---\n",
        "\n",
        "\n",
        "Handling Exceptions\n",
        "The statements try and except can be used to handle selected exceptions. A try statement may have more than one except clause to specify handlers for different exceptions.\n",
        "\n",
        "#Code\n",
        "```\n",
        "try:\n",
        "    print 1/0\n",
        "except ZeroDivisionError as e:\n",
        "    print \"Error Code:\",e\n",
        "```\n",
        "**Output**\n",
        "\n",
        "Error Code: integer division or modulo by zero\n",
        "\n",
        "---\n",
        "\n",
        "\n",
        "\n",
        "**Task**\n",
        "\n",
        "You are given two values a and b.\n",
        "Perform integer division and print a/b.\n",
        "\n",
        "**Input Format**\n",
        "\n",
        "The first line contains T, the number of test cases.\n",
        "The next T lines each contain the space separated values of a and b.\n",
        "\n",
        "**Constraints**\n",
        "<li> $ 0<T<10 $ <br>\n",
        "\n",
        "**Output Format**\n",
        "\n",
        "Print the value of a/b.<br>\n",
        "In the case of ZeroDivisionError or ValueError, print the error code.<br>\n",
        "\n",
        "**Sample Input**\n",
        "\n",
        "3<br>\n",
        "1 0<br>\n",
        "2 $<br>\n",
        "3 1<br>\n",
        "**Sample Output**\n",
        "\n",
        "Error Code: integer division or modulo by zero<br>\n",
        "Error Code: invalid literal for int() with base 10: '$'<br>\n",
        "3<br>\n",
        "**Note:**\n",
        "For integer division in Python 3 use //.\n",
        "\n",
        "\n"
      ]
    },
    {
      "cell_type": "code",
      "metadata": {
        "colab": {
          "base_uri": "https://localhost:8080/"
        },
        "id": "3ABGevgO-6j1",
        "outputId": "8c8640b8-5626-48d1-d359-d19fe8ae91df"
      },
      "source": [
        "T = int(input())\n",
        "for i in range(T):\n",
        "  try:\n",
        "    dividend, divisor = map(int, input().split())\n",
        "    print(dividend//divisor)\n",
        "  except (ZeroDivisionError, ValueError) as e:\n",
        "    print(\"Error Code:\",e)\n"
      ],
      "execution_count": 28,
      "outputs": [
        {
          "output_type": "stream",
          "text": [
            "2\n",
            "1 0\n",
            "Error Code: integer division or modulo by zero\n",
            "1 f\n",
            "Error Code: invalid literal for int() with base 10: 'f'\n"
          ],
          "name": "stdout"
        }
      ]
    }
  ]
}