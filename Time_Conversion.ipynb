{
  "nbformat": 4,
  "nbformat_minor": 0,
  "metadata": {
    "colab": {
      "name": "Time Conversion.ipynb",
      "provenance": [],
      "authorship_tag": "ABX9TyN9K+1Yb81fa28Jp+iivMVS",
      "include_colab_link": true
    },
    "kernelspec": {
      "name": "python3",
      "display_name": "Python 3"
    },
    "language_info": {
      "name": "python"
    }
  },
  "cells": [
    {
      "cell_type": "markdown",
      "metadata": {
        "id": "view-in-github",
        "colab_type": "text"
      },
      "source": [
        "<a href=\"https://colab.research.google.com/github/Ni7070/Hackerrank-Submission/blob/master/Time_Conversion.ipynb\" target=\"_parent\"><img src=\"https://colab.research.google.com/assets/colab-badge.svg\" alt=\"Open In Colab\"/></a>"
      ]
    },
    {
      "cell_type": "markdown",
      "metadata": {
        "id": "Z1rollAI0h8p"
      },
      "source": [
        "Given a time in 12-hour AM/PM format, convert it to military (24-hour) time.\n",
        "\n",
        "Note: - 12:00:00AM on a 12-hour clock is 00:00:00 on a 24-hour clock.\n",
        "- 12:00:00PM on a 12-hour clock is 12:00:00 on a 24-hour clock.\n",
        "\n",
        "Example\n",
        "\n",
        "<li>s = \"12:01:00PM\"<br>\n",
        "Return '12:01:00'.\n",
        "\n",
        "<li>s=\"12:01:00AM\"<br>\n",
        "Return '00:01:00'.<br>\n",
        "Function Description\n",
        "\n",
        "Complete the timeConversion function in the editor below. It should return a new string representing the input time in 24 hour format.\n",
        "\n",
        "timeConversion has the following parameter(s):\n",
        "\n",
        "string s: a time in 12 hour format\n",
        "Returns\n",
        "\n",
        "string: the time in 24 hour format\n",
        "Input Format\n",
        "\n",
        "A single string s that represents a time in 12-hour clock format \n",
        "Constraints\n",
        "\n",
        "<li>All input times are valid<br>\n",
        "Sample Input:\n",
        "\n",
        "07:05:45PM<br>\n",
        "Sample Output:<br>\n",
        "\n",
        "19:05:45<br>"
      ]
    },
    {
      "cell_type": "code",
      "metadata": {
        "colab": {
          "base_uri": "https://localhost:8080/"
        },
        "id": "L-tFVJxxu9WD",
        "outputId": "53a3b244-8226-4beb-997c-dccdf6d1d023"
      },
      "source": [
        "s = \"12:45:54PM\"\n",
        "a = int(s[0:2])\n",
        "if s[-2] == 'P':\n",
        "  if a != 12:\n",
        "    a = a + 12\n",
        "    time = str(a) + s[2:8]\n",
        "  else:\n",
        "    time = s[0:8]\n",
        "elif s[-2] == 'A':\n",
        "  if a != 12:\n",
        "    time = s[0:8]\n",
        "  else:\n",
        "    time = \"00\"+ s[2:8]\n",
        "print(time)"
      ],
      "execution_count": 38,
      "outputs": [
        {
          "output_type": "stream",
          "text": [
            "12:45:54\n"
          ],
          "name": "stdout"
        }
      ]
    }
  ]
}